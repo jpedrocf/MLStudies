{
  "nbformat": 4,
  "nbformat_minor": 0,
  "metadata": {
    "colab": {
      "provenance": [],
      "authorship_tag": "ABX9TyPTmbGU1Y9F1b+MMoGP3ZlG",
      "include_colab_link": true
    },
    "kernelspec": {
      "name": "python3",
      "display_name": "Python 3"
    },
    "language_info": {
      "name": "python"
    }
  },
  "cells": [
    {
      "cell_type": "markdown",
      "metadata": {
        "id": "view-in-github",
        "colab_type": "text"
      },
      "source": [
        "<a href=\"https://colab.research.google.com/github/jpedrocf/MLStudies/blob/main/AccuracyTest.ipynb\" target=\"_parent\"><img src=\"https://colab.research.google.com/assets/colab-badge.svg\" alt=\"Open In Colab\"/></a>"
      ]
    },
    {
      "cell_type": "code",
      "execution_count": 1,
      "metadata": {
        "colab": {
          "base_uri": "https://localhost:8080/"
        },
        "id": "M1gseSKsxHFB",
        "outputId": "0944c761-ffc7-49ae-a202-ec8c4f7bc3ab"
      },
      "outputs": [
        {
          "output_type": "stream",
          "name": "stdout",
          "text": [
            "Collecting ucimlrepo\n",
            "  Downloading ucimlrepo-0.0.7-py3-none-any.whl.metadata (5.5 kB)\n",
            "Requirement already satisfied: pandas>=1.0.0 in /usr/local/lib/python3.10/dist-packages (from ucimlrepo) (2.2.2)\n",
            "Requirement already satisfied: certifi>=2020.12.5 in /usr/local/lib/python3.10/dist-packages (from ucimlrepo) (2024.8.30)\n",
            "Requirement already satisfied: numpy>=1.22.4 in /usr/local/lib/python3.10/dist-packages (from pandas>=1.0.0->ucimlrepo) (1.26.4)\n",
            "Requirement already satisfied: python-dateutil>=2.8.2 in /usr/local/lib/python3.10/dist-packages (from pandas>=1.0.0->ucimlrepo) (2.8.2)\n",
            "Requirement already satisfied: pytz>=2020.1 in /usr/local/lib/python3.10/dist-packages (from pandas>=1.0.0->ucimlrepo) (2024.2)\n",
            "Requirement already satisfied: tzdata>=2022.7 in /usr/local/lib/python3.10/dist-packages (from pandas>=1.0.0->ucimlrepo) (2024.2)\n",
            "Requirement already satisfied: six>=1.5 in /usr/local/lib/python3.10/dist-packages (from python-dateutil>=2.8.2->pandas>=1.0.0->ucimlrepo) (1.16.0)\n",
            "Downloading ucimlrepo-0.0.7-py3-none-any.whl (8.0 kB)\n",
            "Installing collected packages: ucimlrepo\n",
            "Successfully installed ucimlrepo-0.0.7\n"
          ]
        }
      ],
      "source": [
        "pip install ucimlrepo"
      ]
    },
    {
      "cell_type": "markdown",
      "source": [
        "# Imports and Dataset Load"
      ],
      "metadata": {
        "id": "ctKv1k2Pxu52"
      }
    },
    {
      "cell_type": "code",
      "source": [
        "from ucimlrepo import fetch_ucirepo\n",
        "from sklearn.model_selection import train_test_split\n",
        "from sklearn.neighbors import KNeighborsClassifier\n",
        "from sklearn.tree import DecisionTreeClassifier\n",
        "from sklearn.naive_bayes import GaussianNB\n",
        "from sklearn.svm import SVC\n",
        "from sklearn.metrics import accuracy_score\n",
        "from sklearn.model_selection import GridSearchCV\n",
        "from sklearn.model_selection import cross_val_score\n",
        "\n",
        "# fetch dataset\n",
        "wine = fetch_ucirepo(id=109)\n",
        "\n",
        "# data (as pandas dataframes)\n",
        "X = wine.data.features\n",
        "y = wine.data.targets\n",
        "\n",
        "y = y.values.ravel()\n",
        "# metadata\n",
        "print(\"Metadata = \", wine.metadata)\n",
        "\n",
        "# variable information\n",
        "print(wine.variables)\n",
        "\n"
      ],
      "metadata": {
        "colab": {
          "base_uri": "https://localhost:8080/"
        },
        "id": "c335yg9DxXm5",
        "outputId": "7580621c-6618-49e6-a216-29dd50f0b464"
      },
      "execution_count": 35,
      "outputs": [
        {
          "output_type": "stream",
          "name": "stdout",
          "text": [
            "Metadata =  {'uci_id': 109, 'name': 'Wine', 'repository_url': 'https://archive.ics.uci.edu/dataset/109/wine', 'data_url': 'https://archive.ics.uci.edu/static/public/109/data.csv', 'abstract': 'Using chemical analysis to determine the origin of wines', 'area': 'Physics and Chemistry', 'tasks': ['Classification'], 'characteristics': ['Tabular'], 'num_instances': 178, 'num_features': 13, 'feature_types': ['Integer', 'Real'], 'demographics': [], 'target_col': ['class'], 'index_col': None, 'has_missing_values': 'no', 'missing_values_symbol': None, 'year_of_dataset_creation': 1992, 'last_updated': 'Mon Aug 28 2023', 'dataset_doi': '10.24432/C5PC7J', 'creators': ['Stefan Aeberhard', 'M. Forina'], 'intro_paper': {'ID': 246, 'type': 'NATIVE', 'title': 'Comparative analysis of statistical pattern recognition methods in high dimensional settings', 'authors': 'S. Aeberhard, D. Coomans, O. Vel', 'venue': 'Pattern Recognition', 'year': 1994, 'journal': None, 'DOI': '10.1016/0031-3203(94)90145-7', 'URL': 'https://www.semanticscholar.org/paper/83dc3e4030d7b9fbdbb4bde03ce12ab70ca10528', 'sha': None, 'corpus': None, 'arxiv': None, 'mag': None, 'acl': None, 'pmid': None, 'pmcid': None}, 'additional_info': {'summary': 'These data are the results of a chemical analysis of wines grown in the same region in Italy but derived from three different cultivars. The analysis determined the quantities of 13 constituents found in each of the three types of wines. \\r\\n\\r\\nI think that the initial data set had around 30 variables, but for some reason I only have the 13 dimensional version. I had a list of what the 30 or so variables were, but a.)  I lost it, and b.), I would not know which 13 variables are included in the set.\\r\\n\\r\\nThe attributes are (dontated by Riccardo Leardi, riclea@anchem.unige.it )\\r\\n1) Alcohol\\r\\n2) Malic acid\\r\\n3) Ash\\r\\n4) Alcalinity of ash  \\r\\n5) Magnesium\\r\\n6) Total phenols\\r\\n7) Flavanoids\\r\\n8) Nonflavanoid phenols\\r\\n9) Proanthocyanins\\r\\n10)Color intensity\\r\\n11)Hue\\r\\n12)OD280/OD315 of diluted wines\\r\\n13)Proline \\r\\n\\r\\nIn a classification context, this is a well posed problem with \"well behaved\" class structures. A good data set for first testing of a new classifier, but not very challenging.           ', 'purpose': 'test', 'funded_by': None, 'instances_represent': None, 'recommended_data_splits': None, 'sensitive_data': None, 'preprocessing_description': None, 'variable_info': 'All attributes are continuous\\r\\n\\t\\r\\nNo statistics available, but suggest to standardise variables for certain uses (e.g. for us with classifiers which are NOT scale invariant)\\r\\n\\r\\nNOTE: 1st attribute is class identifier (1-3)', 'citation': None}}\n",
            "                            name     role         type demographic  \\\n",
            "0                          class   Target  Categorical        None   \n",
            "1                        Alcohol  Feature   Continuous        None   \n",
            "2                      Malicacid  Feature   Continuous        None   \n",
            "3                            Ash  Feature   Continuous        None   \n",
            "4              Alcalinity_of_ash  Feature   Continuous        None   \n",
            "5                      Magnesium  Feature      Integer        None   \n",
            "6                  Total_phenols  Feature   Continuous        None   \n",
            "7                     Flavanoids  Feature   Continuous        None   \n",
            "8           Nonflavanoid_phenols  Feature   Continuous        None   \n",
            "9                Proanthocyanins  Feature   Continuous        None   \n",
            "10               Color_intensity  Feature   Continuous        None   \n",
            "11                           Hue  Feature   Continuous        None   \n",
            "12  0D280_0D315_of_diluted_wines  Feature   Continuous        None   \n",
            "13                       Proline  Feature      Integer        None   \n",
            "\n",
            "   description units missing_values  \n",
            "0         None  None             no  \n",
            "1         None  None             no  \n",
            "2         None  None             no  \n",
            "3         None  None             no  \n",
            "4         None  None             no  \n",
            "5         None  None             no  \n",
            "6         None  None             no  \n",
            "7         None  None             no  \n",
            "8         None  None             no  \n",
            "9         None  None             no  \n",
            "10        None  None             no  \n",
            "11        None  None             no  \n",
            "12        None  None             no  \n",
            "13        None  None             no  \n"
          ]
        }
      ]
    },
    {
      "cell_type": "markdown",
      "source": [
        "# Splitting the data into training and testing sets (80% training, 20% testing)"
      ],
      "metadata": {
        "id": "vecg6mE2zIX6"
      }
    },
    {
      "cell_type": "code",
      "source": [
        "X_train, X_test, y_train, y_test = train_test_split(X, y, test_size=0.2, train_size=0.8, random_state=40, stratify=y)\n",
        "\n",
        "print(f\"Training set size: {len(X_train)}\")\n",
        "print(f\"Testing set size: {len(X_test)}\")"
      ],
      "metadata": {
        "colab": {
          "base_uri": "https://localhost:8080/"
        },
        "id": "hvF-KnVUx0dx",
        "outputId": "7786ed77-9882-4a8b-844a-432c76144cf8"
      },
      "execution_count": 18,
      "outputs": [
        {
          "output_type": "stream",
          "name": "stdout",
          "text": [
            "Training set size: 142\n",
            "Testing set size: 36\n"
          ]
        }
      ]
    },
    {
      "cell_type": "markdown",
      "source": [
        "# Accuracy Evaluation with KNN, Decison Tree, Naive Bayes and SVM (using default settings)"
      ],
      "metadata": {
        "id": "NOqp7JRL0m10"
      }
    },
    {
      "cell_type": "code",
      "source": [
        "# Initialize the models with default parameters\n",
        "knn = KNeighborsClassifier()\n",
        "decision_tree = DecisionTreeClassifier()\n",
        "naive_bayes = GaussianNB()\n",
        "svm = SVC()\n",
        "\n",
        "# Train each model on the training set\n",
        "knn.fit(X_train, y_train)\n",
        "decision_tree.fit(X_train, y_train)\n",
        "naive_bayes.fit(X_train, y_train)\n",
        "svm.fit(X_train, y_train)\n",
        "\n",
        "# Predict on the test set\n",
        "knn_pred = knn.predict(X_test)\n",
        "dt_pred = decision_tree.predict(X_test)\n",
        "nb_pred = naive_bayes.predict(X_test)\n",
        "svm_pred = svm.predict(X_test)\n",
        "\n",
        "# Calculate accuracy for each model\n",
        "knn_accuracy = accuracy_score(y_test, knn_pred)\n",
        "dt_accuracy = accuracy_score(y_test, dt_pred)\n",
        "nb_accuracy = accuracy_score(y_test, nb_pred)\n",
        "svm_accuracy = accuracy_score(y_test, svm_pred)\n",
        "\n",
        "# Print the accuracy for each model\n",
        "print(f\"KNN Accuracy: {knn_accuracy:.4f}\")\n",
        "print(f\"Decision Tree Accuracy: {dt_accuracy:.4f}\")\n",
        "print(f\"Naive Bayes Accuracy: {nb_accuracy:.4f}\")\n",
        "print(f\"SVM Accuracy: {svm_accuracy:.4f}\")"
      ],
      "metadata": {
        "colab": {
          "base_uri": "https://localhost:8080/"
        },
        "id": "ltX5y3aHz1b4",
        "outputId": "114d8830-b093-47f6-bd3b-babdcbc83ff9"
      },
      "execution_count": 19,
      "outputs": [
        {
          "output_type": "stream",
          "name": "stdout",
          "text": [
            "KNN Accuracy: 0.6944\n",
            "Decision Tree Accuracy: 0.8611\n",
            "Naive Bayes Accuracy: 0.9722\n",
            "SVM Accuracy: 0.6944\n"
          ]
        }
      ]
    },
    {
      "cell_type": "markdown",
      "source": [
        "## Hyperparameter Tuning (KNN)\n",
        "\n"
      ],
      "metadata": {
        "id": "waa6_Q263ltc"
      }
    },
    {
      "cell_type": "code",
      "source": [
        "# Define the parameter grid for KNN\n",
        "param_grid_knn = {\n",
        "    'n_neighbors': [3, 5, 7, 9, 11, 13],\n",
        "    'weights': ['uniform', 'distance'],\n",
        "    'metric': ['euclidean', 'manhattan', 'minkowski', 'cosine', 'hamming', 'chebyshev']\n",
        "}\n",
        "\n",
        "# Initialize KNN model\n",
        "knn = KNeighborsClassifier()\n",
        "\n",
        "# Perform grid search with cross-validation\n",
        "grid_search_knn = GridSearchCV(estimator=knn, param_grid=param_grid_knn, cv=5, scoring='accuracy')\n",
        "\n",
        "# Fit the grid search\n",
        "grid_search_knn.fit(X_train, y_train)\n",
        "\n",
        "# Best parameters and best score\n",
        "print(\"Best parameters for KNN:\", grid_search_knn.best_params_)\n",
        "print(\"Best cross-validation score for KNN:\", grid_search_knn.best_score_)\n",
        "\n",
        "# Test the best KNN model on the test set\n",
        "best_knn = grid_search_knn.best_estimator_\n",
        "knn_pred = best_knn.predict(X_test)\n",
        "knn_accuracy = accuracy_score(y_test, knn_pred)\n",
        "print(f\"Best KNN model accuracy on test set: {knn_accuracy:.4f}\")"
      ],
      "metadata": {
        "colab": {
          "base_uri": "https://localhost:8080/"
        },
        "id": "L_qTSu_A3sEi",
        "outputId": "1de4ae3f-4009-4143-c9f7-63c05a3aff18"
      },
      "execution_count": 24,
      "outputs": [
        {
          "output_type": "stream",
          "name": "stdout",
          "text": [
            "Best parameters for KNN: {'metric': 'cosine', 'n_neighbors': 7, 'weights': 'distance'}\n",
            "Best cross-validation score for KNN: 0.8172413793103448\n",
            "Best KNN model accuracy on test set: 0.8333\n"
          ]
        }
      ]
    },
    {
      "cell_type": "code",
      "source": [
        "knn = KNeighborsClassifier(metric='cosine', n_neighbors=7, weights='distance')\n",
        "knn.fit(X_train, y_train)\n",
        "knn_pred = knn.predict(X_test)\n",
        "knn_accuracy = accuracy_score(y_test, knn_pred)\n",
        "print(f\"KNN Accuracy (after Tuning): {knn_accuracy:.4f}\")"
      ],
      "metadata": {
        "colab": {
          "base_uri": "https://localhost:8080/"
        },
        "id": "I7BMDJWe7ie7",
        "outputId": "7ad2e524-dcdd-4ab7-8852-3b49fa74c952"
      },
      "execution_count": 27,
      "outputs": [
        {
          "output_type": "stream",
          "name": "stdout",
          "text": [
            "KNN Accuracy (after Tuning): 0.8333\n"
          ]
        }
      ]
    },
    {
      "cell_type": "markdown",
      "source": [
        "## Hyperparameter Tuning (SVM)"
      ],
      "metadata": {
        "id": "sjl28xkMFU4V"
      }
    },
    {
      "cell_type": "code",
      "source": [
        "# Define the parameter grid for SVM\n",
        "param_grid_svm = {\n",
        "    'C': [0.1, 1, 10, 100],\n",
        "    'kernel': ['linear', 'rbf', 'poly', 'sigmoid'],\n",
        "    'gamma': ['scale', 'auto']\n",
        "}\n",
        "\n",
        "# Initialize SVM model\n",
        "svm = SVC()\n",
        "\n",
        "# Perform grid search with cross-validation\n",
        "grid_search_svm = GridSearchCV(estimator=svm, param_grid=param_grid_svm, cv=5, scoring='accuracy')\n",
        "\n",
        "# Fit the grid search\n",
        "grid_search_svm.fit(X_train, y_train)\n",
        "\n",
        "# Best parameters and best score\n",
        "print(\"Best parameters for SVM:\", grid_search_svm.best_params_)\n",
        "print(\"Best cross-validation score for SVM:\", grid_search_svm.best_score_)\n",
        "\n",
        "# Test the best SVM model on the test set\n",
        "best_svm = grid_search_svm.best_estimator_\n",
        "svm_pred = best_svm.predict(X_test)\n",
        "svm_accuracy = accuracy_score(y_test, svm_pred)\n",
        "print(f\"Best SVM model accuracy on test set: {svm_accuracy:.4f}\")"
      ],
      "metadata": {
        "colab": {
          "base_uri": "https://localhost:8080/"
        },
        "id": "67wXwcJIFc1x",
        "outputId": "f1e95431-4d1b-4417-d7d3-afb31e8f6eaa"
      },
      "execution_count": 31,
      "outputs": [
        {
          "output_type": "stream",
          "name": "stdout",
          "text": [
            "Best parameters for SVM: {'C': 1, 'gamma': 'scale', 'kernel': 'linear'}\n",
            "Best cross-validation score for SVM: 0.9716748768472907\n",
            "Best SVM model accuracy on test set: 0.9167\n"
          ]
        }
      ]
    },
    {
      "cell_type": "code",
      "source": [
        "svm = SVC(C= 1, gamma= 'scale', kernel= 'linear')\n",
        "svm.fit(X_train, y_train)\n",
        "svm_accuracy = accuracy_score(y_test, svm_pred)\n",
        "print(f\"SVM Accuracy (after Tuning): {svm_accuracy:.4f}\")"
      ],
      "metadata": {
        "colab": {
          "base_uri": "https://localhost:8080/"
        },
        "id": "8WWVfHMhF5mp",
        "outputId": "8947a74c-6379-4534-c77a-9cfd6b77ea3f"
      },
      "execution_count": 37,
      "outputs": [
        {
          "output_type": "stream",
          "name": "stdout",
          "text": [
            "SVM Accuracy (after Tuning): 0.9167\n"
          ]
        }
      ]
    },
    {
      "cell_type": "markdown",
      "source": [
        "## Accuracy comparison after tuning"
      ],
      "metadata": {
        "id": "VjeYvbEuHJr8"
      }
    },
    {
      "cell_type": "code",
      "source": [
        "# Print the accuracy for each model after tuning\n",
        "print(f\"KNN Accuracy: {knn_accuracy:.4f}\")\n",
        "print(f\"Decision Tree Accuracy: {dt_accuracy:.4f}\")\n",
        "print(f\"Naive Bayes Accuracy: {nb_accuracy:.4f}\")\n",
        "print(f\"SVM Accuracy: {svm_accuracy:.4f}\")"
      ],
      "metadata": {
        "colab": {
          "base_uri": "https://localhost:8080/"
        },
        "id": "G-eNfewDHDTR",
        "outputId": "2f73338c-0a00-4cf6-fb38-7bcf779b4e73"
      },
      "execution_count": 34,
      "outputs": [
        {
          "output_type": "stream",
          "name": "stdout",
          "text": [
            "KNN Accuracy: 0.8333\n",
            "Decision Tree Accuracy: 0.8611\n",
            "Naive Bayes Accuracy: 0.9722\n",
            "SVM Accuracy: 0.9167\n"
          ]
        }
      ]
    }
  ]
}